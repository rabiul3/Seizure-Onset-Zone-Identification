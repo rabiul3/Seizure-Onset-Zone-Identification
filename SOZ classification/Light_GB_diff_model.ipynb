{
 "cells": [
  {
   "cell_type": "code",
   "execution_count": 1,
   "metadata": {},
   "outputs": [
    {
     "name": "stderr",
     "output_type": "stream",
     "text": [
      "/Users/sheuli/.pyenv/versions/anaconda3-5.3.0/lib/python3.6/site-packages/lightgbm/__init__.py:48: UserWarning: Starting from version 2.2.1, the library file in distribution wheels for macOS is built by the Apple Clang (Xcode_8.3.3) compiler.\n",
      "This means that in case of installing LightGBM from PyPI via the ``pip install lightgbm`` command, you don't need to install the gcc compiler anymore.\n",
      "Instead of that, you need to install the OpenMP library, which is required for running LightGBM on the system with the Apple Clang compiler.\n",
      "You can install the OpenMP library by the following command: ``brew install libomp``.\n",
      "  \"You can install the OpenMP library by the following command: ``brew install libomp``.\", UserWarning)\n"
     ]
    }
   ],
   "source": [
    "import lightgbm as lgb\n",
    "from sklearn import datasets\n",
    "from sklearn.model_selection import train_test_split\n",
    "import numpy as np\n",
    "import pandas as pd\n",
    "pd.set_option('display.max_rows', 100)\n",
    "from sklearn import metrics\n",
    "import matplotlib.pyplot as plt"
   ]
  },
  {
   "cell_type": "code",
   "execution_count": 2,
   "metadata": {},
   "outputs": [],
   "source": [
    "P1_X_train = np.loadtxt(\"Train.csv\", delimiter=\",\")\n",
    "P1_X_test=np.loadtxt(\"Test.csv\", delimiter=\",\")\n",
    "P1_y_train=np.loadtxt(\"Trainlabel.csv\", delimiter=\",\")\n",
    "P1_y_test=np.loadtxt(\"Testlabel.csv\", delimiter=\",\")"
   ]
  },
  {
   "cell_type": "code",
   "execution_count": 3,
   "metadata": {},
   "outputs": [],
   "source": [
    "X_train=P1_X_train\n",
    "y_train=P1_y_train\n",
    "\n",
    "X_test=P1_X_test\n",
    "y_test=P1_y_test"
   ]
  },
  {
   "cell_type": "code",
   "execution_count": 4,
   "metadata": {},
   "outputs": [],
   "source": [
    "# データセットを生成する\n",
    "lgb_train = lgb.Dataset(X_train, y_train)\n",
    "lgb_eval = lgb.Dataset(X_test, y_test, reference=lgb_train)"
   ]
  },
  {
   "cell_type": "code",
   "execution_count": 5,
   "metadata": {},
   "outputs": [],
   "source": [
    "# LightGBM のハイパーパラメータ\n",
    "lgbm_params = {\n",
    "    # 二値分類問題\n",
    "    'objective': 'binary',\n",
    "    # AUC の最大化を目指す\n",
    "    'metric': 'auc',\n",
    "}"
   ]
  },
  {
   "cell_type": "code",
   "execution_count": 6,
   "metadata": {},
   "outputs": [
    {
     "name": "stdout",
     "output_type": "stream",
     "text": [
      "[1]\tvalid_0's auc: 0.881312\n",
      "[2]\tvalid_0's auc: 0.902049\n",
      "[3]\tvalid_0's auc: 0.901599\n",
      "[4]\tvalid_0's auc: 0.913281\n",
      "[5]\tvalid_0's auc: 0.925412\n",
      "[6]\tvalid_0's auc: 0.930145\n",
      "[7]\tvalid_0's auc: 0.933259\n",
      "[8]\tvalid_0's auc: 0.939829\n",
      "[9]\tvalid_0's auc: 0.944286\n",
      "[10]\tvalid_0's auc: 0.944631\n",
      "[11]\tvalid_0's auc: 0.946291\n",
      "[12]\tvalid_0's auc: 0.947714\n",
      "[13]\tvalid_0's auc: 0.947625\n",
      "[14]\tvalid_0's auc: 0.948498\n",
      "[15]\tvalid_0's auc: 0.951853\n",
      "[16]\tvalid_0's auc: 0.956763\n",
      "[17]\tvalid_0's auc: 0.958564\n",
      "[18]\tvalid_0's auc: 0.959267\n",
      "[19]\tvalid_0's auc: 0.960516\n",
      "[20]\tvalid_0's auc: 0.959379\n",
      "[21]\tvalid_0's auc: 0.964496\n",
      "[22]\tvalid_0's auc: 0.964649\n",
      "[23]\tvalid_0's auc: 0.969079\n",
      "[24]\tvalid_0's auc: 0.969427\n",
      "[25]\tvalid_0's auc: 0.970541\n",
      "[26]\tvalid_0's auc: 0.970926\n",
      "[27]\tvalid_0's auc: 0.972318\n",
      "[28]\tvalid_0's auc: 0.971836\n",
      "[29]\tvalid_0's auc: 0.973423\n",
      "[30]\tvalid_0's auc: 0.974922\n",
      "[31]\tvalid_0's auc: 0.977286\n",
      "[32]\tvalid_0's auc: 0.977377\n",
      "[33]\tvalid_0's auc: 0.978083\n",
      "[34]\tvalid_0's auc: 0.977933\n",
      "[35]\tvalid_0's auc: 0.98\n",
      "[36]\tvalid_0's auc: 0.980819\n",
      "[37]\tvalid_0's auc: 0.981051\n",
      "[38]\tvalid_0's auc: 0.981694\n",
      "[39]\tvalid_0's auc: 0.982484\n",
      "[40]\tvalid_0's auc: 0.983138\n",
      "[41]\tvalid_0's auc: 0.983491\n",
      "[42]\tvalid_0's auc: 0.983759\n",
      "[43]\tvalid_0's auc: 0.984251\n",
      "[44]\tvalid_0's auc: 0.98511\n",
      "[45]\tvalid_0's auc: 0.985307\n",
      "[46]\tvalid_0's auc: 0.985491\n",
      "[47]\tvalid_0's auc: 0.986605\n",
      "[48]\tvalid_0's auc: 0.986582\n",
      "[49]\tvalid_0's auc: 0.986478\n",
      "[50]\tvalid_0's auc: 0.986621\n",
      "[51]\tvalid_0's auc: 0.986647\n",
      "[52]\tvalid_0's auc: 0.986748\n",
      "[53]\tvalid_0's auc: 0.987289\n",
      "[54]\tvalid_0's auc: 0.987391\n",
      "[55]\tvalid_0's auc: 0.987706\n",
      "[56]\tvalid_0's auc: 0.987649\n",
      "[57]\tvalid_0's auc: 0.987708\n",
      "[58]\tvalid_0's auc: 0.987948\n",
      "[59]\tvalid_0's auc: 0.988376\n",
      "[60]\tvalid_0's auc: 0.988298\n",
      "[61]\tvalid_0's auc: 0.988361\n",
      "[62]\tvalid_0's auc: 0.988736\n",
      "[63]\tvalid_0's auc: 0.988572\n",
      "[64]\tvalid_0's auc: 0.988775\n",
      "[65]\tvalid_0's auc: 0.988665\n",
      "[66]\tvalid_0's auc: 0.988874\n",
      "[67]\tvalid_0's auc: 0.98886\n",
      "[68]\tvalid_0's auc: 0.988783\n",
      "[69]\tvalid_0's auc: 0.988694\n",
      "[70]\tvalid_0's auc: 0.988577\n",
      "[71]\tvalid_0's auc: 0.988421\n",
      "[72]\tvalid_0's auc: 0.988241\n",
      "[73]\tvalid_0's auc: 0.988062\n",
      "[74]\tvalid_0's auc: 0.988192\n",
      "[75]\tvalid_0's auc: 0.988402\n",
      "[76]\tvalid_0's auc: 0.988471\n",
      "[77]\tvalid_0's auc: 0.988648\n",
      "[78]\tvalid_0's auc: 0.988795\n",
      "[79]\tvalid_0's auc: 0.988835\n",
      "[80]\tvalid_0's auc: 0.988929\n",
      "[81]\tvalid_0's auc: 0.989227\n",
      "[82]\tvalid_0's auc: 0.989157\n",
      "[83]\tvalid_0's auc: 0.989544\n",
      "[84]\tvalid_0's auc: 0.98944\n",
      "[85]\tvalid_0's auc: 0.989332\n",
      "[86]\tvalid_0's auc: 0.989274\n",
      "[87]\tvalid_0's auc: 0.989154\n",
      "[88]\tvalid_0's auc: 0.989199\n",
      "[89]\tvalid_0's auc: 0.989219\n",
      "[90]\tvalid_0's auc: 0.989368\n",
      "[91]\tvalid_0's auc: 0.989228\n",
      "[92]\tvalid_0's auc: 0.989215\n",
      "[93]\tvalid_0's auc: 0.989457\n",
      "[94]\tvalid_0's auc: 0.989545\n",
      "[95]\tvalid_0's auc: 0.989677\n",
      "[96]\tvalid_0's auc: 0.989665\n",
      "[97]\tvalid_0's auc: 0.989649\n",
      "[98]\tvalid_0's auc: 0.989539\n",
      "[99]\tvalid_0's auc: 0.989636\n",
      "[100]\tvalid_0's auc: 0.989695\n"
     ]
    }
   ],
   "source": [
    "# 上記のパラメータでモデルを学習する\n",
    "model = lgb.train(lgbm_params, lgb_train, valid_sets=lgb_eval)"
   ]
  },
  {
   "cell_type": "code",
   "execution_count": 7,
   "metadata": {},
   "outputs": [
    {
     "data": {
      "text/plain": [
       "<lightgbm.basic.Booster at 0x11d55c6a0>"
      ]
     },
     "execution_count": 7,
     "metadata": {},
     "output_type": "execute_result"
    }
   ],
   "source": [
    "# 保存\n",
    "model.save_model('model_Pt1.txt')"
   ]
  },
  {
   "cell_type": "code",
   "execution_count": 8,
   "metadata": {},
   "outputs": [],
   "source": [
    "# テストデータを予測する\n",
    "y_pred = model.predict(X_test, num_iteration=model.best_iteration)"
   ]
  },
  {
   "cell_type": "code",
   "execution_count": 9,
   "metadata": {},
   "outputs": [
    {
     "name": "stdout",
     "output_type": "stream",
     "text": [
      "0.9896946068875894\n"
     ]
    }
   ],
   "source": [
    "# AUC (Area Under the Curve) を計算する\n",
    "fpr, tpr, thresholds = metrics.roc_curve(y_test, y_pred)\n",
    "auc = metrics.auc(fpr, tpr)\n",
    "print(auc)"
   ]
  },
  {
   "cell_type": "code",
   "execution_count": 10,
   "metadata": {},
   "outputs": [
    {
     "data": {
      "image/png": "[encoded data removed]",
      "text/plain": [
       "<Figure size 432x288 with 1 Axes>"
      ]
     },
     "metadata": {
      "needs_background": "light"
     },
     "output_type": "display_data"
    }
   ],
   "source": [
    "# ROC曲線をプロット\n",
    "plt.plot(fpr, tpr, label='ROC curve (area = %.2f)'%auc)\n",
    "plt.legend()\n",
    "plt.title('ROC curve')\n",
    "plt.xlabel('False Positive Rate')\n",
    "plt.ylabel('True Positive Rate')\n",
    "plt.grid(True)"
   ]
  },
  {
   "cell_type": "code",
   "execution_count": 11,
   "metadata": {},
   "outputs": [],
   "source": [
    "#save the score\n",
    "np.savetxt('p1_light_gbm_score_depen_diffmodel.csv',y_pred, delimiter = ',')"
   ]
  }
 ],
 "metadata": {
  "kernelspec": {
   "display_name": "Python 3",
   "language": "python",
   "name": "python3"
  },
  "language_info": {
   "codemirror_mode": {
    "name": "ipython",
    "version": 3
   },
   "file_extension": ".py",
   "mimetype": "text/x-python",
   "name": "python",
   "nbconvert_exporter": "python",
   "pygments_lexer": "ipython3",
   "version": "3.6.8"
  }
 },
 "nbformat": 4,
 "nbformat_minor": 2
}
